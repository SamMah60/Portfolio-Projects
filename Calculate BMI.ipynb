{
 "cells": [
  {
   "cell_type": "code",
   "execution_count": null,
   "id": "e31eade2",
   "metadata": {},
   "outputs": [],
   "source": [
    "name = input(\"Enter your name: \")\n",
    "\n",
    "weight = input(\"Enter your weight in pounds: \")\n",
    "\n",
    "height = input(\"Enter your height in inches: \")\n",
    "\n",
    "BMI = (float(weight) * 703) / (float(height) * float(height))\n",
    "\n",
    "\n",
    "if BMI > 0:\n",
    "    if BMI < 18.5:\n",
    "        print(name + \", You are underweight.\")\n",
    "        print(\"Health risk: Minimal\")\n",
    "    elif BMI <= 24.9:\n",
    "        print(name + \", You are normal weight.\")\n",
    "        print(\"Health risk: Minimal\")\n",
    "    elif BMI <= 29.9:\n",
    "        print(name + \", You are overweight.\")\n",
    "        print(\"Health risk: Increased\")\n",
    "    elif BMI <= 34.9:\n",
    "        print(name + \"You are obese.\")\n",
    "        print(\"Health risk: High\")\n",
    "    elif BMI <= 39.9:\n",
    "        print(name + \", You are severely obese.\")\n",
    "        print(\"Health risk: Very High\")\n",
    "    else:\n",
    "        print(name + \", You are morbidly obese.\")\n",
    "        print(\"Health risk: Extremely High\")\n",
    "else:\n",
    "    print(\"Invalid input\")"
   ]
  }
 ],
 "metadata": {
  "kernelspec": {
   "display_name": "Python 3 (ipykernel)",
   "language": "python",
   "name": "python3"
  },
  "language_info": {
   "codemirror_mode": {
    "name": "ipython",
    "version": 3
   },
   "file_extension": ".py",
   "mimetype": "text/x-python",
   "name": "python",
   "nbconvert_exporter": "python",
   "pygments_lexer": "ipython3",
   "version": "3.11.5"
  }
 },
 "nbformat": 4,
 "nbformat_minor": 5
}
