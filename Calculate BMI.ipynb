{
 "cells": [
  {
   "cell_type": "code",
   "execution_count": 15,
   "id": "c5be3c6b",
   "metadata": {},
   "outputs": [
    {
     "name": "stdout",
     "output_type": "stream",
     "text": [
      "Enter your name: Sameer\n",
      "Enter your weight in pounds: 143.3\n",
      "Enter your height in inches: 73\n",
      "Sameer, You are normal weight.\n",
      "Health risk: Minimal\n"
     ]
    }
   ],
   "source": [
    "name = input(\"Enter your name: \")\n",
    "\n",
    "weight = input(\"Enter your weight in pounds: \")\n",
    "\n",
    "height = input(\"Enter your height in inches: \")\n",
    "\n",
    "BMI = (float(weight) * 703) / (float(height) * float(height))\n",
    "\n",
    "\n",
    "if BMI > 0:\n",
    "    if BMI < 18.5:\n",
    "        print(name + \", You are underweight.\")\n",
    "        print(\"Health risk: Minimal\")\n",
    "    elif BMI <= 24.9:\n",
    "        print(name + \", You are normal weight.\")\n",
    "        print(\"Health risk: Minimal\")\n",
    "    elif BMI <= 29.9:\n",
    "        print(name + \", You are overweight.\")\n",
    "        print(\"Health risk: Increased\")\n",
    "    elif BMI <= 34.9:\n",
    "        print(name + \"You are obese.\")\n",
    "        print(\"Health risk: High\")\n",
    "    elif BMI <= 39.9:\n",
    "        print(name + \", You are severely obese.\")\n",
    "        print(\"Health risk: Very High\")\n",
    "    else:\n",
    "        print(name + \", You are morbidly obese.\")\n",
    "        print(\"Health risk: Extremely High\")\n",
    "else:\n",
    "    print(\"Invalid input\")"
   ]
  },
  {
   "cell_type": "code",
   "execution_count": 13,
   "id": "3dce6784",
   "metadata": {},
   "outputs": [
    {
     "name": "stdout",
     "output_type": "stream",
     "text": [
      "-43.9375\n"
     ]
    }
   ],
   "source": [
    "print(BMI)"
   ]
  },
  {
   "cell_type": "code",
   "execution_count": 14,
   "id": "1d34c9a3",
   "metadata": {},
   "outputs": [
    {
     "name": "stdout",
     "output_type": "stream",
     "text": [
      "Invalid input\n"
     ]
    }
   ],
   "source": [
    "if BMI > 0:\n",
    "    if BMI < 18.5:\n",
    "        print(name + \", You are underweight.\")\n",
    "        print(\"Health risk: Minimal\")\n",
    "    elif BMI <= 24.9:\n",
    "        print(name + \", You are normal weight.\")\n",
    "        print(\"Health risk: Minimal\")\n",
    "    elif BMI <= 29.9:\n",
    "        print(name + \", You are overweight.\")\n",
    "        print(\"Health risk: Increased\")\n",
    "    elif BMI <= 34.9:\n",
    "        print(name + \"You are obese.\")\n",
    "        print(\"Health risk: High\")\n",
    "    elif BMI <= 39.9:\n",
    "        print(name + \", You are severely obese.\")\n",
    "        print(\"Health risk: Very High\")\n",
    "    else:\n",
    "        print(name + \", You are morbidly obese.\")\n",
    "        print(\"Health risk: Extremely High\")\n",
    "else:\n",
    "    print(\"Invalid input\")"
   ]
  },
  {
   "cell_type": "code",
   "execution_count": null,
   "id": "4dd04b6e",
   "metadata": {},
   "outputs": [],
   "source": []
  }
 ],
 "metadata": {
  "kernelspec": {
   "display_name": "Python 3 (ipykernel)",
   "language": "python",
   "name": "python3"
  },
  "language_info": {
   "codemirror_mode": {
    "name": "ipython",
    "version": 3
   },
   "file_extension": ".py",
   "mimetype": "text/x-python",
   "name": "python",
   "nbconvert_exporter": "python",
   "pygments_lexer": "ipython3",
   "version": "3.11.5"
  }
 },
 "nbformat": 4,
 "nbformat_minor": 5
}
